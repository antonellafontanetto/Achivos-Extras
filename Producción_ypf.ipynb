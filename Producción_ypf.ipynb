{
  "nbformat": 4,
  "nbformat_minor": 0,
  "metadata": {
    "colab": {
      "provenance": [],
      "authorship_tag": "ABX9TyMHIjSMzLF40S+Q26PO+mMz",
      "include_colab_link": true
    },
    "kernelspec": {
      "name": "python3",
      "display_name": "Python 3"
    },
    "language_info": {
      "name": "python"
    }
  },
  "cells": [
    {
      "cell_type": "markdown",
      "metadata": {
        "id": "view-in-github",
        "colab_type": "text"
      },
      "source": [
        "<a href=\"https://colab.research.google.com/github/antonellafontanetto/Achivos-Extras/blob/main/Producci%C3%B3n_ypf.ipynb\" target=\"_parent\"><img src=\"https://colab.research.google.com/assets/colab-badge.svg\" alt=\"Open In Colab\"/></a>"
      ]
    },
    {
      "cell_type": "code",
      "source": [
        "import pandas as pd\n",
        "import numpy as np\n",
        "import matplotlib.pyplot as plt\n",
        "import seaborn as sns\n",
        "from scipy import stats"
      ],
      "metadata": {
        "id": "9nAC1rSQHLWS"
      },
      "execution_count": 2,
      "outputs": []
    },
    {
      "cell_type": "code",
      "execution_count": 3,
      "metadata": {
        "colab": {
          "base_uri": "https://localhost:8080/"
        },
        "id": "ge8RSb2VG1cD",
        "outputId": "49da86fe-b3ee-4037-9acf-05642eb208d5"
      },
      "outputs": [
        {
          "output_type": "execute_result",
          "data": {
            "text/plain": [
              "(  idempresa  anio  mes  idpozo  prod_pet  prod_gas  prod_agua  iny_agua  \\\n",
              " 0      YSUR  2018    1  132488       0.0   171.937       0.00       0.0   \n",
              " 1      YSUR  2017    1  130021       0.0   245.850      16.68       0.0   \n",
              " 2      YSUR  2018    1  132487       0.0   514.696      17.00       0.0   \n",
              " 3      YSUR  2015    1  137212       0.0   422.110       0.00       0.0   \n",
              " 4      YSUR  2018    1  132361       0.0   217.103       7.30       0.0   \n",
              " \n",
              "    iny_gas  iny_co2  ...    cuenca  provincia  coordenadax coordenaday  \\\n",
              " 0      0.0      0.0  ...  NEUQUINA  Rio Negro   -67.864960  -39.016722   \n",
              " 1      0.0      0.0  ...  NEUQUINA    Neuquén   -69.733102  -39.024859   \n",
              " 2      0.0      0.0  ...  NEUQUINA  Rio Negro   -67.837875  -39.019313   \n",
              " 3      0.0      0.0  ...  NEUQUINA    Neuquén   -69.255971  -38.860779   \n",
              " 4      0.0      0.0  ...  NEUQUINA    Neuquén   -69.231360  -38.869270   \n",
              " \n",
              "    tipo_de_recurso      proyecto clasificacion subclasificacion  \\\n",
              " 0  NO CONVENCIONAL      GAS PLUS   EXPLOTACION       DESARROLLO   \n",
              " 1  NO CONVENCIONAL      GAS PLUS   EXPLOTACION       DESARROLLO   \n",
              " 2  NO CONVENCIONAL  Sin Proyecto   EXPLOTACION       DESARROLLO   \n",
              " 3  NO CONVENCIONAL      GAS PLUS   EXPLOTACION       DESARROLLO   \n",
              " 4  NO CONVENCIONAL      GAS PLUS   EXPLOTACION       DESARROLLO   \n",
              " \n",
              "   sub_tipo_recurso  fecha_data  \n",
              " 0            TIGHT  2018-01-31  \n",
              " 1            TIGHT  2017-01-31  \n",
              " 2            TIGHT  2018-01-31  \n",
              " 3            TIGHT  2015-01-31  \n",
              " 4            TIGHT  2018-01-31  \n",
              " \n",
              " [5 rows x 40 columns],\n",
              " idempresa                  object\n",
              " anio                        int64\n",
              " mes                         int64\n",
              " idpozo                      int64\n",
              " prod_pet                  float64\n",
              " prod_gas                  float64\n",
              " prod_agua                 float64\n",
              " iny_agua                  float64\n",
              " iny_gas                   float64\n",
              " iny_co2                   float64\n",
              " iny_otro                  float64\n",
              " tef                       float64\n",
              " vida_util                 float64\n",
              " tipoextraccion             object\n",
              " tipoestado                 object\n",
              " tipopozo                   object\n",
              " observaciones              object\n",
              " fechaingreso               object\n",
              " rectificado                object\n",
              " habilitado                 object\n",
              " idusuario                   int64\n",
              " empresa                    object\n",
              " sigla                      object\n",
              " formprod                   object\n",
              " profundidad               float64\n",
              " formacion                  object\n",
              " idareapermisoconcesion     object\n",
              " areapermisoconcesion       object\n",
              " idareayacimiento           object\n",
              " areayacimiento             object\n",
              " cuenca                     object\n",
              " provincia                  object\n",
              " coordenadax               float64\n",
              " coordenaday               float64\n",
              " tipo_de_recurso            object\n",
              " proyecto                   object\n",
              " clasificacion              object\n",
              " subclasificacion           object\n",
              " sub_tipo_recurso           object\n",
              " fecha_data                 object\n",
              " dtype: object)"
            ]
          },
          "metadata": {},
          "execution_count": 3
        }
      ],
      "source": [
        "# Cargar el nuevo dataset de producción\n",
        "df_produccion = pd.read_csv(\"/content/produccion.zip\")\n",
        "\n",
        "# Mostrar las primeras filas y tipos de datos\n",
        "df_produccion.head(), df_produccion.dtypes\n"
      ]
    },
    {
      "cell_type": "code",
      "source": [
        "# prompt: quiero descargar esto\n",
        "\n",
        "from google.colab import files\n",
        "\n",
        "# Assuming you want to download the processed dataframe or some output file\n",
        "# If you want to download the original produccion.zip, you can do that too\n",
        "# Let's assume you want to download the processed dataframe as a CSV file\n",
        "\n",
        "# Save the DataFrame to a CSV file\n",
        "df_produccion.to_csv('produccion_processed.csv', index=False)\n",
        "\n",
        "# Download the file\n",
        "files.download('produccion_processed.csv')\n"
      ],
      "metadata": {
        "colab": {
          "base_uri": "https://localhost:8080/",
          "height": 17
        },
        "id": "jsfRRsjWHRfR",
        "outputId": "d82c53fd-caac-4e34-9b58-1ba65f43a567"
      },
      "execution_count": 4,
      "outputs": [
        {
          "output_type": "display_data",
          "data": {
            "text/plain": [
              "<IPython.core.display.Javascript object>"
            ],
            "application/javascript": [
              "\n",
              "    async function download(id, filename, size) {\n",
              "      if (!google.colab.kernel.accessAllowed) {\n",
              "        return;\n",
              "      }\n",
              "      const div = document.createElement('div');\n",
              "      const label = document.createElement('label');\n",
              "      label.textContent = `Downloading \"${filename}\": `;\n",
              "      div.appendChild(label);\n",
              "      const progress = document.createElement('progress');\n",
              "      progress.max = size;\n",
              "      div.appendChild(progress);\n",
              "      document.body.appendChild(div);\n",
              "\n",
              "      const buffers = [];\n",
              "      let downloaded = 0;\n",
              "\n",
              "      const channel = await google.colab.kernel.comms.open(id);\n",
              "      // Send a message to notify the kernel that we're ready.\n",
              "      channel.send({})\n",
              "\n",
              "      for await (const message of channel.messages) {\n",
              "        // Send a message to notify the kernel that we're ready.\n",
              "        channel.send({})\n",
              "        if (message.buffers) {\n",
              "          for (const buffer of message.buffers) {\n",
              "            buffers.push(buffer);\n",
              "            downloaded += buffer.byteLength;\n",
              "            progress.value = downloaded;\n",
              "          }\n",
              "        }\n",
              "      }\n",
              "      const blob = new Blob(buffers, {type: 'application/binary'});\n",
              "      const a = document.createElement('a');\n",
              "      a.href = window.URL.createObjectURL(blob);\n",
              "      a.download = filename;\n",
              "      div.appendChild(a);\n",
              "      a.click();\n",
              "      div.remove();\n",
              "    }\n",
              "  "
            ]
          },
          "metadata": {}
        },
        {
          "output_type": "display_data",
          "data": {
            "text/plain": [
              "<IPython.core.display.Javascript object>"
            ],
            "application/javascript": [
              "download(\"download_0be33ae4-83cc-4759-a2af-ff7ccd95dd19\", \"produccion_processed.csv\", 122635413)"
            ]
          },
          "metadata": {}
        }
      ]
    }
  ]
}